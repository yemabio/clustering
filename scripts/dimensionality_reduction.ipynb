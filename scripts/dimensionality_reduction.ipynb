{
 "cells": [
  {
   "cell_type": "code",
   "execution_count": null,
   "metadata": {},
   "outputs": [],
   "source": [
    "import numpy as np\n",
    "import matplotlib.pyplot as plt\n",
    "from clustering import models\n",
    "from clustering import visualization\n",
    "from clustering import analysis\n",
    "import umap\n",
    "from sklearn.datasets import make_swiss_roll"
   ]
  },
  {
   "cell_type": "code",
   "execution_count": null,
   "metadata": {},
   "outputs": [],
   "source": [
    "%matplotlib widget\n",
    "%load_ext autoreload\n",
    "%autoreload 2"
   ]
  },
  {
   "cell_type": "markdown",
   "metadata": {},
   "source": [
    "## Visualizing principal components"
   ]
  },
  {
   "cell_type": "markdown",
   "metadata": {},
   "source": [
    "### Example 1: Simple 2-D dataset"
   ]
  },
  {
   "cell_type": "markdown",
   "metadata": {},
   "source": [
    "#### First, let's generate a few data points in two dimensions. "
   ]
  },
  {
   "cell_type": "code",
   "execution_count": null,
   "metadata": {},
   "outputs": [],
   "source": [
    "mean = np.array([0,0])\n",
    "cov = np.array([[1,.6],[.6,1]])\n",
    "gaussian_data = models.generate_gaussian(mean, cov, 5)\n",
    "fig, ax = visualization.plot_data(gaussian_data,three_d=False,figsize=(5,5),s=5)\n",
    "fig.suptitle('Feature space')\n",
    "ax.set_xlabel('Feature 1',loc='right')\n",
    "ax.set_ylabel('Feature 2', loc='top',rotation=0)\n",
    "ax.set_xlim([-5,5])\n",
    "ax.set_ylim([-5,5])\n"
   ]
  },
  {
   "cell_type": "markdown",
   "metadata": {},
   "source": [
    "#### Let's generate a few more:"
   ]
  },
  {
   "cell_type": "code",
   "execution_count": null,
   "metadata": {},
   "outputs": [],
   "source": [
    "gaussian_data = models.generate_gaussian(mean, cov, 1000)\n",
    "fig, ax = visualization.plot_data(gaussian_data,three_d=False,figsize=(5,5))\n",
    "fig.suptitle('Feature space')\n",
    "ax.set_xlabel('Feature 1',loc='right')\n",
    "ax.set_ylabel('Feature 2', loc='top',rotation=0)\n",
    "ax.set_xlim([-5,5])\n",
    "ax.set_ylim([-5,5])"
   ]
  },
  {
   "cell_type": "markdown",
   "metadata": {},
   "source": [
    "#### PCA pulls out the directions in the feature space with the most variance. These are called the <b>principal components</b>, or <b>PCs</b>. "
   ]
  },
  {
   "cell_type": "code",
   "execution_count": null,
   "metadata": {},
   "outputs": [],
   "source": [
    "gaussian_pca = analysis.get_pca_object(gaussian_data)"
   ]
  },
  {
   "cell_type": "code",
   "execution_count": null,
   "metadata": {},
   "outputs": [],
   "source": [
    "fig, ax = visualization.plot_data(gaussian_data, pca=gaussian_pca, figsize=(5,5))\n",
    "fig.suptitle('Feature space')\n",
    "ax.set_xlabel('Feature 1',loc='right')\n",
    "ax.set_ylabel('Feature 2', loc='top',rotation=0)\n",
    "ax.set_xlim([-5,5])\n",
    "ax.set_ylim([-5,5])"
   ]
  },
  {
   "cell_type": "markdown",
   "metadata": {},
   "source": [
    "#### Why is this important? PCA gives you a sense of the <b>effective dimensionality</b> of the data."
   ]
  },
  {
   "cell_type": "code",
   "execution_count": null,
   "metadata": {},
   "outputs": [],
   "source": [
    "fig, ax = visualization.plot_data(gaussian_data, pca=gaussian_pca, figsize=(5,5))\n",
    "fig.suptitle('Feature space')\n",
    "ax.set_xlabel('Feature 1',loc='right')\n",
    "ax.set_ylabel('Feature 2', loc='top',rotation=0)\n",
    "ax.text(3,5,s=f'fraction EV 1: {np.round(gaussian_pca.explained_variance_ratio_[0],2)}')\n",
    "ax.text(3,4.5,s=f'fraction EV 2: {np.round(gaussian_pca.explained_variance_ratio_[1],2)}')\n",
    "ax.set_xlim([-5,5])\n",
    "ax.set_ylim([-5,5])"
   ]
  },
  {
   "cell_type": "markdown",
   "metadata": {},
   "source": [
    "#### We can apply PCA to non-linear data as well to separate out low-variance, noisy features that we don't care about."
   ]
  },
  {
   "cell_type": "code",
   "execution_count": null,
   "metadata": {},
   "outputs": [],
   "source": [
    "n_samples = 2500\n",
    "noise = 0.1\n",
    "swiss_data, swiss_labels = make_swiss_roll(n_samples, noise=noise, random_state=42)\n",
    "# swiss_data[:,1] *= .1"
   ]
  },
  {
   "cell_type": "markdown",
   "metadata": {},
   "source": [
    "#### Rotate the figure below. What directions do you expect the principal components to point in?"
   ]
  },
  {
   "cell_type": "code",
   "execution_count": null,
   "metadata": {},
   "outputs": [],
   "source": [
    "fig, ax = visualization.plot_data(swiss_data, color=swiss_labels, three_d=True, figsize=(5,5))\n",
    "fig.suptitle('Feature space')\n",
    "ax.set_xlabel('Feature 1')\n",
    "ax.set_ylabel('Feature 2')\n",
    "ax.set_zlabel('Feature 3')"
   ]
  },
  {
   "cell_type": "code",
   "execution_count": null,
   "metadata": {},
   "outputs": [],
   "source": [
    "swiss_pca = analysis.get_pca_object(swiss_data)\n",
    "fig, ax = visualization.plot_data(swiss_data, pca=swiss_pca, color=swiss_labels, pc_scale=20,three_d=True, figsize=(5,5))\n",
    "fig.suptitle('Feature space')\n",
    "ax.set_xlabel('Feature 1')\n",
    "ax.set_ylabel('Feature 2')\n",
    "ax.set_zlabel('Feature 3')"
   ]
  },
  {
   "cell_type": "code",
   "execution_count": null,
   "metadata": {},
   "outputs": [],
   "source": [
    "swiss_pca = analysis.get_pca_object(swiss_data,n_components=2)\n",
    "fig, ax = visualization.plot_data(swiss_pca.transform(swiss_data), color=swiss_labels)\n",
    "fig.suptitle('PC space')\n",
    "ax.set_xlabel('PC 1',loc='right')\n",
    "ax.set_ylabel('PC 2', loc='top',rotation=0)"
   ]
  },
  {
   "cell_type": "markdown",
   "metadata": {},
   "source": [
    "#### PCA may not be optimal in this situation if you want to next apply distance-based clustering. This is a primary motivation for UMAP."
   ]
  },
  {
   "cell_type": "code",
   "execution_count": null,
   "metadata": {},
   "outputs": [],
   "source": [
    "swiss_UMAP = umap.UMAP(\n",
    "    n_neighbors=30,\n",
    "    min_dist=0.3,\n",
    "    n_components=2,\n",
    ").fit_transform(swiss_data)"
   ]
  },
  {
   "cell_type": "markdown",
   "metadata": {},
   "source": [
    "#### UMAP preserves the manifold's topology, or geometrical structure. "
   ]
  },
  {
   "cell_type": "code",
   "execution_count": null,
   "metadata": {},
   "outputs": [],
   "source": [
    "fig, ax = visualization.plot_data(swiss_UMAP, color=swiss_labels)\n",
    "fig.suptitle('UMAP space')\n",
    "ax.set_xlabel('UMAP 1',loc='right')\n",
    "ax.set_ylabel('UMAP 2', loc='top',rotation=0)"
   ]
  },
  {
   "cell_type": "markdown",
   "metadata": {},
   "source": [
    "#### However, it assumes local connectivity. In other words, missing points or sparsely sampled data may not be well-represented."
   ]
  },
  {
   "cell_type": "code",
   "execution_count": null,
   "metadata": {},
   "outputs": [],
   "source": [
    "n_samples = 500\n",
    "noise = 0.1\n",
    "swiss_data, swiss_labels = make_swiss_roll(n_samples, noise=noise, random_state=42)\n",
    "# swiss_data[:,1] *= .1\n",
    "swiss_UMAP = umap.UMAP(\n",
    "    n_neighbors=30,\n",
    "    min_dist=0.3,\n",
    "    n_components=2,\n",
    ").fit_transform(swiss_data)\n",
    "fig, ax = visualization.plot_data(swiss_UMAP, color=swiss_labels)\n",
    "fig.suptitle('UMAP space')\n",
    "ax.set_xlabel('UMAP 1',loc='right')\n",
    "ax.set_ylabel('UMAP 2', loc='top',rotation=0)"
   ]
  },
  {
   "cell_type": "code",
   "execution_count": null,
   "metadata": {},
   "outputs": [],
   "source": []
  }
 ],
 "metadata": {
  "kernelspec": {
   "display_name": "clustering",
   "language": "python",
   "name": "clustering"
  },
  "language_info": {
   "codemirror_mode": {
    "name": "ipython",
    "version": 3
   },
   "file_extension": ".py",
   "mimetype": "text/x-python",
   "name": "python",
   "nbconvert_exporter": "python",
   "pygments_lexer": "ipython3",
   "version": "3.10.13"
  },
  "vscode": {
   "interpreter": {
    "hash": "955ca611a91d780a3157a2156a5843e363fab3aa2516b897a6e46ce68d13a1dc"
   }
  }
 },
 "nbformat": 4,
 "nbformat_minor": 2
}
