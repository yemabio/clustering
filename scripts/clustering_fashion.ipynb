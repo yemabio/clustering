{
 "cells": [
  {
   "cell_type": "markdown",
   "metadata": {},
   "source": [
    "# MNIST lies on a simple 2-D manifold. Let's look at a more complicated dataset. "
   ]
  },
  {
   "cell_type": "code",
   "execution_count": null,
   "metadata": {},
   "outputs": [],
   "source": [
    "import numpy as np\n",
    "import matplotlib.pyplot as plt\n",
    "%matplotlib inline\n",
    "from mnist.loader import MNIST\n",
    "import seaborn as sns\n",
    "from sklearn.decomposition import PCA\n",
    "\n",
    "# Dimension reduction and clustering libraries\n",
    "import umap\n",
    "import hdbscan\n",
    "from sklearn.metrics import adjusted_rand_score, adjusted_mutual_info_score\n",
    "from sklearn.datasets import fetch_openml"
   ]
  },
  {
   "cell_type": "code",
   "execution_count": null,
   "metadata": {},
   "outputs": [],
   "source": [
    "mnist = fetch_openml('Fashion-MNIST')\n",
    "mnist.target = mnist.target.astype(int)\n",
    "data = mnist.data.values"
   ]
  },
  {
   "cell_type": "code",
   "execution_count": null,
   "metadata": {},
   "outputs": [],
   "source": [
    "fig, axs = plt.subplots(10,10)\n",
    "fig.suptitle(f'Fashion MNIST sample')\n",
    "for ax, idx in zip(axs.flatten(),np.random.choice(len(data), 100)):\n",
    "    ax.imshow(data[idx].reshape(28,28))\n",
    "    ax.axis('off')"
   ]
  },
  {
   "cell_type": "code",
   "execution_count": null,
   "metadata": {},
   "outputs": [],
   "source": [
    "mnist_pca =  PCA()\n",
    "mnist_pca.fit(data)"
   ]
  },
  {
   "cell_type": "code",
   "execution_count": null,
   "metadata": {},
   "outputs": [],
   "source": [
    "fig,ax = plt.subplots(1,1)\n",
    "ax.plot(np.cumsum(mnist_pca.explained_variance_ratio_),color='k')\n",
    "ax.set_ylabel('Fraction explained variance')\n",
    "ax.set_xlabel('Number of principal components')"
   ]
  },
  {
   "cell_type": "code",
   "execution_count": null,
   "metadata": {},
   "outputs": [],
   "source": [
    "lowd_mnist = PCA(n_components=50).fit_transform(data)\n",
    "pca_labels = hdbscan.HDBSCAN(min_samples=10, min_cluster_size=500).fit_predict(lowd_mnist)"
   ]
  },
  {
   "cell_type": "code",
   "execution_count": null,
   "metadata": {},
   "outputs": [],
   "source": [
    "pca_clustered = (pca_labels >= 0)\n",
    "print(f'Proportion of data points assigned to a cluster after PCA: {pca_clustered.sum()/len(lowd_mnist)}')\n",
    "print(f'Number of found clusters: {len(np.unique(pca_labels[pca_labels >=0]))}')"
   ]
  },
  {
   "cell_type": "code",
   "execution_count": null,
   "metadata": {},
   "outputs": [],
   "source": [
    "fig, axs = plt.subplots(5,10,figsize=(5,5))\n",
    "fig.suptitle(f'PCs')\n",
    "for ax, idx in zip(axs.flatten(),range(len(mnist_pca.components_))):\n",
    "    ax.imshow(mnist_pca.components_[idx].reshape(28,28))\n",
    "    ax.axis('off')"
   ]
  },
  {
   "cell_type": "code",
   "execution_count": null,
   "metadata": {},
   "outputs": [],
   "source": [
    "pca_labeled_examples = []\n",
    "for pred_label in np.unique(pca_labels[pca_labels >=0]):\n",
    "    indices = (pca_labels == pred_label)\n",
    "    pca_labeled_examples.append(data[indices])"
   ]
  },
  {
   "cell_type": "code",
   "execution_count": null,
   "metadata": {},
   "outputs": [],
   "source": [
    "lab=1\n",
    "fig, axs = plt.subplots(10,10)\n",
    "fig.suptitle(f'Cluster {lab} (PCA)')\n",
    "for ax, idx in zip(axs.flatten(),np.random.choice(len(pca_labeled_examples[lab]), 100)):\n",
    "    ax.imshow(pca_labeled_examples[lab][idx].reshape(28,28))\n",
    "    ax.axis('off')"
   ]
  },
  {
   "cell_type": "code",
   "execution_count": null,
   "metadata": {},
   "outputs": [],
   "source": [
    "umap_embedding = umap.UMAP(n_neighbors=30, min_dist=0.1,n_components=2).fit_transform(data)\n",
    "# umap_embedding = umap.UMAP(n_neighbors=30, min_dist=0,n_components=2).fit_transform(data)"
   ]
  },
  {
   "cell_type": "code",
   "execution_count": null,
   "metadata": {},
   "outputs": [],
   "source": [
    "umap_labels = hdbscan.HDBSCAN(\n",
    "    min_samples=10,\n",
    "    min_cluster_size=500,\n",
    ").fit_predict(umap_embedding)"
   ]
  },
  {
   "cell_type": "code",
   "execution_count": null,
   "metadata": {},
   "outputs": [],
   "source": [
    "umap_clustered = (umap_labels >= 0)\n",
    "print(f'Proportion of data points assigned to a cluster after UMAP: {umap_clustered.sum()/len(lowd_mnist)}')\n",
    "print(f'Number of found clusters: {len(np.unique(umap_labels[umap_labels >=0]))}')"
   ]
  },
  {
   "cell_type": "code",
   "execution_count": null,
   "metadata": {},
   "outputs": [],
   "source": [
    "umap_labeled_examples = []\n",
    "for pred_label in np.unique(umap_labels[umap_labels >=0]):\n",
    "    indices = (umap_labels == pred_label)\n",
    "    umap_labeled_examples.append(data[indices])"
   ]
  },
  {
   "cell_type": "code",
   "execution_count": null,
   "metadata": {},
   "outputs": [],
   "source": [
    "lab=0\n",
    "fig, axs = plt.subplots(10,10)\n",
    "fig.suptitle(f'Cluster {lab} (UMAP)')\n",
    "for ax, idx in zip(axs.flatten(),np.random.choice(len(umap_labeled_examples[lab]), 100)):\n",
    "    ax.imshow(umap_labeled_examples[lab][idx].reshape(28,28))\n",
    "    ax.axis('off')"
   ]
  },
  {
   "cell_type": "code",
   "execution_count": null,
   "metadata": {},
   "outputs": [],
   "source": [
    "standard_embedding = umap.UMAP(random_state=42).fit_transform(data)"
   ]
  },
  {
   "cell_type": "code",
   "execution_count": null,
   "metadata": {},
   "outputs": [],
   "source": [
    "clustered = (umap_labels >= 0)\n",
    "fig, ax = plt.subplots()\n",
    "ax.scatter(standard_embedding[~umap_clustered, 0],\n",
    "            standard_embedding[~umap_clustered, 1],\n",
    "            color=(0.5, 0.5, 0.5),\n",
    "            s=0.1,\n",
    "            alpha=0.5)\n",
    "ax.scatter(umap_embedding[umap_clustered, 0],\n",
    "            umap_embedding[umap_clustered, 1],\n",
    "            c=umap_labels[umap_clustered],\n",
    "            s=0.1,\n",
    "            cmap='Spectral')\n",
    "fig.suptitle('UMAP space')\n",
    "ax.set_xlabel('UMAP 1')\n",
    "ax.set_ylabel('UMAP 2')\n",
    "ax.spines[['top', 'right']].set_visible(False)"
   ]
  },
  {
   "cell_type": "code",
   "execution_count": null,
   "metadata": {},
   "outputs": [],
   "source": [
    "clustered = (pca_labels >= 0)\n",
    "fig, ax = plt.subplots()\n",
    "ax.scatter(standard_embedding[~pca_clustered, 0],\n",
    "            standard_embedding[~pca_clustered, 1],\n",
    "            color=(0.5, 0.5, 0.5),\n",
    "            s=0.1,\n",
    "            alpha=0.5)\n",
    "ax.scatter(standard_embedding[pca_clustered, 0],\n",
    "            standard_embedding[pca_clustered, 1],\n",
    "            c=pca_labels[pca_clustered],\n",
    "            s=0.1,\n",
    "            \n",
    "            cmap='Spectral')\n",
    "fig.suptitle('UMAP space')\n",
    "ax.set_xlabel('UMAP 1')\n",
    "ax.set_ylabel('UMAP 2')\n",
    "ax.spines[['top', 'right']].set_visible(False)"
   ]
  }
 ],
 "metadata": {
  "kernelspec": {
   "display_name": "clustering",
   "language": "python",
   "name": "clustering"
  },
  "language_info": {
   "codemirror_mode": {
    "name": "ipython",
    "version": 3
   },
   "file_extension": ".py",
   "mimetype": "text/x-python",
   "name": "python",
   "nbconvert_exporter": "python",
   "pygments_lexer": "ipython3",
   "version": "3.10.13"
  }
 },
 "nbformat": 4,
 "nbformat_minor": 2
}
